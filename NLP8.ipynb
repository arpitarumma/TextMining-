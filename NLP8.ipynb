{
  "nbformat": 4,
  "nbformat_minor": 0,
  "metadata": {
    "colab": {
      "provenance": [],
      "authorship_tag": "ABX9TyNDp7LQwM7MGz1W5h0cMW9f",
      "include_colab_link": true
    },
    "kernelspec": {
      "name": "python3",
      "display_name": "Python 3"
    },
    "language_info": {
      "name": "python"
    }
  },
  "cells": [
    {
      "cell_type": "markdown",
      "metadata": {
        "id": "view-in-github",
        "colab_type": "text"
      },
      "source": [
        "<a href=\"https://colab.research.google.com/github/arpitarumma/TextMining-/blob/main/NLP8.ipynb\" target=\"_parent\"><img src=\"https://colab.research.google.com/assets/colab-badge.svg\" alt=\"Open In Colab\"/></a>"
      ]
    },
    {
      "cell_type": "code",
      "execution_count": 1,
      "metadata": {
        "colab": {
          "base_uri": "https://localhost:8080/"
        },
        "id": "O_TPl3-kLw7K",
        "outputId": "fed97e33-036d-4c57-af44-b2e1a99a0ef3"
      },
      "outputs": [
        {
          "output_type": "stream",
          "name": "stdout",
          "text": [
            "Named Entities (People, Locations, Organizations):\n",
            "Apple Inc. (ORG)\n",
            "California (GPE)\n",
            "Tim Cook (PERSON)\n",
            "Cupertino (GPE)\n",
            "The New York Times (ORG)\n",
            "CNN (ORG)\n"
          ]
        }
      ],
      "source": [
        "import spacy\n",
        "\n",
        "def extract_named_entities(text):\n",
        "    # Load the English NLP model\n",
        "    nlp = spacy.load(\"en_core_web_sm\")\n",
        "\n",
        "    # Process the text\n",
        "    doc = nlp(text)\n",
        "\n",
        "    # Extract named entities\n",
        "    entities = [(ent.text, ent.label_) for ent in doc.ents if ent.label_ in [\"PERSON\", \"GPE\", \"ORG\"]]\n",
        "\n",
        "    return entities\n",
        "\n",
        "def main():\n",
        "    # Sample news article text\n",
        "    news_text = \"\"\"\n",
        "    Apple Inc. announced a new product in California.\n",
        "    CEO Tim Cook revealed the details at the company's headquarters in Cupertino.\n",
        "    The launch event was attended by journalists from The New York Times and CNN.\n",
        "    \"\"\"\n",
        "\n",
        "    # Extract named entities\n",
        "    named_entities = extract_named_entities(news_text)\n",
        "\n",
        "    # Display results\n",
        "    print(\"Named Entities (People, Locations, Organizations):\")\n",
        "    for entity, label in named_entities:\n",
        "        print(f\"{entity} ({label})\")\n",
        "\n",
        "if __name__ == \"__main__\":\n",
        "    main()\n"
      ]
    }
  ]
}