{
  "nbformat": 4,
  "nbformat_minor": 0,
  "metadata": {
    "colab": {
      "provenance": [],
      "authorship_tag": "ABX9TyMnkyyPGF/xVJbeLWqUiH6f",
      "include_colab_link": true
    },
    "kernelspec": {
      "name": "python3",
      "display_name": "Python 3"
    },
    "language_info": {
      "name": "python"
    }
  },
  "cells": [
    {
      "cell_type": "markdown",
      "metadata": {
        "id": "view-in-github",
        "colab_type": "text"
      },
      "source": [
        "<a href=\"https://colab.research.google.com/github/arpitarumma/TextMining-/blob/main/NlPCONCEPTS.ipynb\" target=\"_parent\"><img src=\"https://colab.research.google.com/assets/colab-badge.svg\" alt=\"Open In Colab\"/></a>"
      ]
    },
    {
      "cell_type": "code",
      "execution_count": null,
      "metadata": {
        "colab": {
          "base_uri": "https://localhost:8080/"
        },
        "id": "Dmu1LKDsAHG1",
        "outputId": "e95cad56-4077-49cd-f928-164101d2d316"
      },
      "outputs": [
        {
          "output_type": "stream",
          "name": "stdout",
          "text": [
            "Original Words: ['crying', 'laughing', 'stupid', 'college']\n",
            "Stemmed Words: ['cry', 'laugh', 'stupid', 'colleg']\n"
          ]
        }
      ],
      "source": [
        "from nltk.stem import LancasterStemmer\n",
        "stemmer=LancasterStemmer()\n",
        "words_to_stem=['crying','laughing','stupid','college']\n",
        "stemmed_words=[stemmer.stem(word) for word in words_to_stem]\n",
        "print(\"Original Words:\",words_to_stem)\n",
        "print(\"Stemmed Words:\",stemmed_words)"
      ]
    },
    {
      "cell_type": "code",
      "source": [
        "import nltk\n",
        "nltk.download('wordnet')\n",
        "from nltk.stem import WordNetLemmatizer\n",
        "lemmatizer=WordNetLemmatizer()\n",
        "print(\"rocks:\",lemmatizer.lemmatize(\"rocks\"))\n",
        "print(\"corpora:\",lemmatizer.lemmatize(\"corpora\"))\n",
        "print(\"better:\",lemmatizer.lemmatize(\"better\",pos='a'))"
      ],
      "metadata": {
        "colab": {
          "base_uri": "https://localhost:8080/"
        },
        "id": "5-LYx2WgGvxF",
        "outputId": "7204b311-5b21-4e21-f5b1-f8d671f3cdca"
      },
      "execution_count": 7,
      "outputs": [
        {
          "output_type": "stream",
          "name": "stderr",
          "text": [
            "[nltk_data] Downloading package wordnet to /root/nltk_data...\n"
          ]
        },
        {
          "output_type": "stream",
          "name": "stdout",
          "text": [
            "rocks: rock\n",
            "corpora: corpus\n",
            "better: good\n"
          ]
        }
      ]
    },
    {
      "cell_type": "code",
      "source": [
        "import spacy\n",
        "nlp=spacy.load('en_core_web_sm')\n",
        "text=\"the quick brown fox jumps over the lazy dog\"\n",
        "doc=nlp(text)\n",
        "lemmatized_words=[token.lemma_ for token in doc]\n",
        "print(\"Original Words:\",text)\n",
        "print(\"Lemmatized Words:\",lemmatized_words)"
      ],
      "metadata": {
        "colab": {
          "base_uri": "https://localhost:8080/"
        },
        "id": "0MiojuQEHkBp",
        "outputId": "0602a65f-7fe8-4b57-d3b5-635d1b73dd95"
      },
      "execution_count": 8,
      "outputs": [
        {
          "output_type": "stream",
          "name": "stdout",
          "text": [
            "Original Words: the quick brown fox jumps over the lazy dog\n",
            "Lemmatized Words: ['the', 'quick', 'brown', 'fox', 'jump', 'over', 'the', 'lazy', 'dog']\n"
          ]
        }
      ]
    },
    {
      "cell_type": "code",
      "source": [
        "from nltk.stem import SnowballStemmer\n",
        "stemmer=SnowballStemmer(language='english')\n",
        "words_to_stem=['cried','laughing','stupid','college','stupidiy']\n",
        "stemmed_words=[stemmer.stem(word) for word in words_to_stem]\n",
        "print(\"Original Words:\",words_to_stem)\n",
        "print(\"Stemmed Words:\",stemmed_words)"
      ],
      "metadata": {
        "colab": {
          "base_uri": "https://localhost:8080/"
        },
        "id": "Xe9E6jeeDVpj",
        "outputId": "e150bf38-9252-4216-ddca-a2bcfa1122d0"
      },
      "execution_count": null,
      "outputs": [
        {
          "output_type": "stream",
          "name": "stdout",
          "text": [
            "Original Words: ['cried', 'laughing', 'stupid', 'college', 'stupidiy']\n",
            "Stemmed Words: ['cri', 'laugh', 'stupid', 'colleg', 'stupidiy']\n"
          ]
        }
      ]
    },
    {
      "cell_type": "code",
      "source": [
        "import nltk\n",
        "from nltk.stem import WordNetLemmatizer\n",
        "lemmatizer=WordNetLemmatizer()\n",
        "print(lemmatizer.lemmatize('running',pos='v'))\n",
        "print(lemmatizer.lemmatize('flies',pos='v'))"
      ],
      "metadata": {
        "colab": {
          "base_uri": "https://localhost:8080/"
        },
        "id": "MAP8m8ioJmdL",
        "outputId": "41a7897f-49fc-44a0-b293-08f110669776"
      },
      "execution_count": 10,
      "outputs": [
        {
          "output_type": "stream",
          "name": "stdout",
          "text": [
            "run\n",
            "fly\n"
          ]
        }
      ]
    },
    {
      "cell_type": "code",
      "source": [
        "import spacy\n",
        "\n",
        "# Load the spaCy model\n",
        "nlp = spacy.load('en_core_web_sm')\n",
        "\n",
        "# Process the text\n",
        "text = \"the quick brown fox jumps over the lazy dog\"\n",
        "doc = nlp(text)\n",
        "\n",
        "# Iterate through the tokens in the doc and print their text and lemma\n",
        "for token in doc:\n",
        "    print(token.text, \"->\", token.lemma_)\n"
      ],
      "metadata": {
        "colab": {
          "base_uri": "https://localhost:8080/"
        },
        "id": "oKX5cOabKBMN",
        "outputId": "e6d2533a-c627-41c9-9233-52b3b65747fa"
      },
      "execution_count": 13,
      "outputs": [
        {
          "output_type": "stream",
          "name": "stdout",
          "text": [
            "the -> the\n",
            "quick -> quick\n",
            "brown -> brown\n",
            "fox -> fox\n",
            "jumps -> jump\n",
            "over -> over\n",
            "the -> the\n",
            "lazy -> lazy\n",
            "dog -> dog\n"
          ]
        }
      ]
    }
  ]
}